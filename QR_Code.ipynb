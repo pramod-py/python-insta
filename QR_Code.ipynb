{
  "nbformat": 4,
  "nbformat_minor": 0,
  "metadata": {
    "colab": {
      "name": "QR Code.ipynb",
      "provenance": [],
      "authorship_tag": "ABX9TyPKlz0Nl7bQPsZglyVbp6/v",
      "include_colab_link": true
    },
    "kernelspec": {
      "name": "python3",
      "display_name": "Python 3"
    }
  },
  "cells": [
    {
      "cell_type": "markdown",
      "metadata": {
        "id": "view-in-github",
        "colab_type": "text"
      },
      "source": [
        "<a href=\"https://colab.research.google.com/github/pramod-sanghavi/pythonadda/blob/master/QR_Code.ipynb\" target=\"_parent\"><img src=\"https://colab.research.google.com/assets/colab-badge.svg\" alt=\"Open In Colab\"/></a>"
      ]
    },
    {
      "cell_type": "code",
      "metadata": {
        "id": "h2qiqknn9Xf1",
        "colab_type": "code",
        "colab": {
          "base_uri": "https://localhost:8080/",
          "height": 126
        },
        "outputId": "4d06792a-dd5b-41a2-d559-470905c7e3b1"
      },
      "source": [
        "!pip3 install qrcode"
      ],
      "execution_count": 1,
      "outputs": [
        {
          "output_type": "stream",
          "text": [
            "Collecting qrcode\n",
            "  Downloading https://files.pythonhosted.org/packages/42/87/4a3a77e59ab7493d64da1f69bf1c2e899a4cf81e51b2baa855e8cc8115be/qrcode-6.1-py2.py3-none-any.whl\n",
            "Requirement already satisfied: six in /usr/local/lib/python3.6/dist-packages (from qrcode) (1.15.0)\n",
            "Installing collected packages: qrcode\n",
            "Successfully installed qrcode-6.1\n"
          ],
          "name": "stdout"
        }
      ]
    },
    {
      "cell_type": "code",
      "metadata": {
        "id": "qpoZi8Rx9b43",
        "colab_type": "code",
        "colab": {}
      },
      "source": [
        "import qrcode\n",
        "img = qrcode.make(\"https://covid19.mhpolice.in/status?tid=JAL07172009271125703&submit=\")\n",
        "img.save(\"12345.png\")"
      ],
      "execution_count": 2,
      "outputs": []
    }
  ]
}